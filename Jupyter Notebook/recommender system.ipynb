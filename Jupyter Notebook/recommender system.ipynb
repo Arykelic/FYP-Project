{
 "cells": [
  {
   "cell_type": "code",
   "execution_count": 75,
   "id": "3931dc64",
   "metadata": {},
   "outputs": [],
   "source": [
    "import numpy as np\n",
    "import pandas as pd\n",
    "from sklearn.metrics.pairwise import cosine_similarity\n",
    "from sklearn.metrics import mean_squared_error\n",
    "from sklearn.model_selection import train_test_split\n",
    "from surprise import Reader, Dataset, KNNBasic\n",
    "from surprise.model_selection import cross_validate\n",
    "from surprise import SVD"
   ]
  },
  {
   "cell_type": "code",
   "execution_count": 76,
   "id": "6c344416",
   "metadata": {},
   "outputs": [
    {
     "data": {
      "text/html": [
       "<div>\n",
       "<style scoped>\n",
       "    .dataframe tbody tr th:only-of-type {\n",
       "        vertical-align: middle;\n",
       "    }\n",
       "\n",
       "    .dataframe tbody tr th {\n",
       "        vertical-align: top;\n",
       "    }\n",
       "\n",
       "    .dataframe thead th {\n",
       "        text-align: right;\n",
       "    }\n",
       "</style>\n",
       "<table border=\"1\" class=\"dataframe\">\n",
       "  <thead>\n",
       "    <tr style=\"text-align: right;\">\n",
       "      <th></th>\n",
       "      <th>Image_Url</th>\n",
       "      <th>Item_Name</th>\n",
       "      <th>Username</th>\n",
       "      <th>Rating_Score</th>\n",
       "      <th>Review_Description</th>\n",
       "      <th>Review_Date</th>\n",
       "    </tr>\n",
       "  </thead>\n",
       "  <tbody>\n",
       "    <tr>\n",
       "      <th>0</th>\n",
       "      <td>https://m.media-amazon.com/images/I/41UuyU7HsP...</td>\n",
       "      <td>Samsung Galaxy S20 FE 5G | Factory Unlocked An...</td>\n",
       "      <td>Leonardo</td>\n",
       "      <td>5</td>\n",
       "      <td>Tengo prácticamente una semana con el equipo y...</td>\n",
       "      <td>Reviewed in Mexico on 2 December 2020</td>\n",
       "    </tr>\n",
       "    <tr>\n",
       "      <th>1</th>\n",
       "      <td>https://m.media-amazon.com/images/I/41UuyU7HsP...</td>\n",
       "      <td>Samsung Galaxy S20 FE 5G | Factory Unlocked An...</td>\n",
       "      <td>Jacob E</td>\n",
       "      <td>3</td>\n",
       "      <td>Coming from a pixel 2 I expected more.Front ca...</td>\n",
       "      <td>Reviewed in the United States on 5 October 2020</td>\n",
       "    </tr>\n",
       "    <tr>\n",
       "      <th>2</th>\n",
       "      <td>https://m.media-amazon.com/images/I/41UuyU7HsP...</td>\n",
       "      <td>Samsung Galaxy S20 FE 5G | Factory Unlocked An...</td>\n",
       "      <td>Angel Chavez</td>\n",
       "      <td>5</td>\n",
       "      <td>Realmente llegó el que pedí' aunque aún no hay...</td>\n",
       "      <td>Reviewed in Mexico on 25 November 2020</td>\n",
       "    </tr>\n",
       "    <tr>\n",
       "      <th>3</th>\n",
       "      <td>https://m.media-amazon.com/images/I/41UuyU7HsP...</td>\n",
       "      <td>Samsung Galaxy S20 FE 5G | Factory Unlocked An...</td>\n",
       "      <td>Shawn</td>\n",
       "      <td>3</td>\n",
       "      <td>I decided on the Samsung Galaxy S20 FE for my ...</td>\n",
       "      <td>Reviewed in the United States on 18 November 2020</td>\n",
       "    </tr>\n",
       "    <tr>\n",
       "      <th>4</th>\n",
       "      <td>https://m.media-amazon.com/images/I/41UuyU7HsP...</td>\n",
       "      <td>Samsung Galaxy S20 FE 5G | Factory Unlocked An...</td>\n",
       "      <td>Morgan J.</td>\n",
       "      <td>4</td>\n",
       "      <td>El teléfono llegó super rápido y lo compré por...</td>\n",
       "      <td>Reviewed in Mexico on 9 January 2021</td>\n",
       "    </tr>\n",
       "  </tbody>\n",
       "</table>\n",
       "</div>"
      ],
      "text/plain": [
       "                                           Image_Url  \\\n",
       "0  https://m.media-amazon.com/images/I/41UuyU7HsP...   \n",
       "1  https://m.media-amazon.com/images/I/41UuyU7HsP...   \n",
       "2  https://m.media-amazon.com/images/I/41UuyU7HsP...   \n",
       "3  https://m.media-amazon.com/images/I/41UuyU7HsP...   \n",
       "4  https://m.media-amazon.com/images/I/41UuyU7HsP...   \n",
       "\n",
       "                                           Item_Name      Username  \\\n",
       "0  Samsung Galaxy S20 FE 5G | Factory Unlocked An...      Leonardo   \n",
       "1  Samsung Galaxy S20 FE 5G | Factory Unlocked An...       Jacob E   \n",
       "2  Samsung Galaxy S20 FE 5G | Factory Unlocked An...  Angel Chavez   \n",
       "3  Samsung Galaxy S20 FE 5G | Factory Unlocked An...         Shawn   \n",
       "4  Samsung Galaxy S20 FE 5G | Factory Unlocked An...     Morgan J.   \n",
       "\n",
       "   Rating_Score                                 Review_Description  \\\n",
       "0             5  Tengo prácticamente una semana con el equipo y...   \n",
       "1             3  Coming from a pixel 2 I expected more.Front ca...   \n",
       "2             5  Realmente llegó el que pedí' aunque aún no hay...   \n",
       "3             3  I decided on the Samsung Galaxy S20 FE for my ...   \n",
       "4             4  El teléfono llegó super rápido y lo compré por...   \n",
       "\n",
       "                                        Review_Date   \n",
       "0              Reviewed in Mexico on 2 December 2020  \n",
       "1    Reviewed in the United States on 5 October 2020  \n",
       "2             Reviewed in Mexico on 25 November 2020  \n",
       "3  Reviewed in the United States on 18 November 2020  \n",
       "4               Reviewed in Mexico on 9 January 2021  "
      ]
     },
     "execution_count": 76,
     "metadata": {},
     "output_type": "execute_result"
    }
   ],
   "source": [
    "phone = pd.read_csv('merged.csv')\n",
    "phone.head()                "
   ]
  },
  {
   "cell_type": "code",
   "execution_count": 77,
   "id": "b54ec751",
   "metadata": {},
   "outputs": [
    {
     "data": {
      "text/plain": [
       "1035"
      ]
     },
     "execution_count": 77,
     "metadata": {},
     "output_type": "execute_result"
    }
   ],
   "source": [
    "len(phone) "
   ]
  },
  {
   "cell_type": "code",
   "execution_count": 78,
   "id": "9454743a",
   "metadata": {},
   "outputs": [
    {
     "name": "stdout",
     "output_type": "stream",
     "text": [
      "Image_Url                2\n",
      "Item_Name                2\n",
      "Username               951\n",
      "Rating_Score             5\n",
      "Review_Description    1025\n",
      "Review_Date            553\n",
      "dtype: int64\n"
     ]
    }
   ],
   "source": [
    "print(phone.nunique())"
   ]
  },
  {
   "cell_type": "code",
   "execution_count": 79,
   "id": "b051dd85",
   "metadata": {},
   "outputs": [
    {
     "data": {
      "text/plain": [
       "5    608\n",
       "4    151\n",
       "1    149\n",
       "3     71\n",
       "2     56\n",
       "Name: Rating_Score, dtype: int64"
      ]
     },
     "execution_count": 79,
     "metadata": {},
     "output_type": "execute_result"
    }
   ],
   "source": [
    "phone['Rating_Score'].value_counts()"
   ]
  },
  {
   "cell_type": "code",
   "execution_count": 80,
   "id": "6eb9b39d",
   "metadata": {},
   "outputs": [
    {
     "name": "stdout",
     "output_type": "stream",
     "text": [
      "True\n"
     ]
    }
   ],
   "source": [
    "print(phone.isnull().values.any())"
   ]
  },
  {
   "cell_type": "code",
   "execution_count": 81,
   "id": "833b1723",
   "metadata": {},
   "outputs": [
    {
     "name": "stdout",
     "output_type": "stream",
     "text": [
      "Image_Url             0\n",
      "Item_Name             0\n",
      "Username              0\n",
      "Rating_Score          0\n",
      "Review_Description    1\n",
      "Review_Date           0\n",
      "dtype: int64\n"
     ]
    }
   ],
   "source": [
    "print(phone.isnull().sum())"
   ]
  },
  {
   "cell_type": "code",
   "execution_count": 82,
   "id": "a1f9a05e",
   "metadata": {},
   "outputs": [
    {
     "data": {
      "text/plain": [
       "951"
      ]
     },
     "execution_count": 82,
     "metadata": {},
     "output_type": "execute_result"
    }
   ],
   "source": [
    "df = phone.drop_duplicates('Username', keep='first')\n",
    "len(df)"
   ]
  },
  {
   "cell_type": "code",
   "execution_count": 83,
   "id": "77c4c87c",
   "metadata": {},
   "outputs": [],
   "source": [
    "#Assign X as the original ratings dataframe and y as the Username column of ratings.\n",
    "\n",
    "X = df.copy()\n",
    "y = df['Username']\n",
    "\n",
    "#Split into training and test datasets\n",
    "X_train, X_test, y_train, y_test = train_test_split(X, y, test_size = 0.25, random_state=42)"
   ]
  },
  {
   "cell_type": "code",
   "execution_count": 84,
   "id": "e138c53c",
   "metadata": {},
   "outputs": [
    {
     "data": {
      "text/html": [
       "<div>\n",
       "<style scoped>\n",
       "    .dataframe tbody tr th:only-of-type {\n",
       "        vertical-align: middle;\n",
       "    }\n",
       "\n",
       "    .dataframe tbody tr th {\n",
       "        vertical-align: top;\n",
       "    }\n",
       "\n",
       "    .dataframe thead th {\n",
       "        text-align: right;\n",
       "    }\n",
       "</style>\n",
       "<table border=\"1\" class=\"dataframe\">\n",
       "  <thead>\n",
       "    <tr style=\"text-align: right;\">\n",
       "      <th>Item_Name</th>\n",
       "      <th>Samsung Galaxy S20 FE 5G | Factory Unlocked Android Cell Phone | 128 GB | US Version Smartphone | Pro-Grade Camera| 30X Space Zoom| Night Mode | Cloud Navy</th>\n",
       "      <th>UMIDIGI A5 Pro Unlocked Mobile Phones SIM Free Dual 4G Smartphone 16MP+8MP+5MP Camera Smartphones 4150mAh Battery 6.3\" FHD+ 32GB ROM 4GB RAM Android 9 Pie (Grey)</th>\n",
       "    </tr>\n",
       "    <tr>\n",
       "      <th>Username</th>\n",
       "      <th></th>\n",
       "      <th></th>\n",
       "    </tr>\n",
       "  </thead>\n",
       "  <tbody>\n",
       "    <tr>\n",
       "      <th>....</th>\n",
       "      <td>4.0</td>\n",
       "      <td>NaN</td>\n",
       "    </tr>\n",
       "    <tr>\n",
       "      <th>2kold</th>\n",
       "      <td>3.0</td>\n",
       "      <td>NaN</td>\n",
       "    </tr>\n",
       "    <tr>\n",
       "      <th>4u1solo</th>\n",
       "      <td>5.0</td>\n",
       "      <td>NaN</td>\n",
       "    </tr>\n",
       "    <tr>\n",
       "      <th>A G Trappe</th>\n",
       "      <td>NaN</td>\n",
       "      <td>1.0</td>\n",
       "    </tr>\n",
       "    <tr>\n",
       "      <th>A S M SARWAR ZAHAN</th>\n",
       "      <td>5.0</td>\n",
       "      <td>NaN</td>\n",
       "    </tr>\n",
       "    <tr>\n",
       "      <th>...</th>\n",
       "      <td>...</td>\n",
       "      <td>...</td>\n",
       "    </tr>\n",
       "    <tr>\n",
       "      <th>warang</th>\n",
       "      <td>5.0</td>\n",
       "      <td>NaN</td>\n",
       "    </tr>\n",
       "    <tr>\n",
       "      <th>willie hines</th>\n",
       "      <td>5.0</td>\n",
       "      <td>NaN</td>\n",
       "    </tr>\n",
       "    <tr>\n",
       "      <th>wilsonmd</th>\n",
       "      <td>5.0</td>\n",
       "      <td>NaN</td>\n",
       "    </tr>\n",
       "    <tr>\n",
       "      <th>winton</th>\n",
       "      <td>5.0</td>\n",
       "      <td>NaN</td>\n",
       "    </tr>\n",
       "    <tr>\n",
       "      <th>Ángel Madrigal</th>\n",
       "      <td>4.0</td>\n",
       "      <td>NaN</td>\n",
       "    </tr>\n",
       "  </tbody>\n",
       "</table>\n",
       "<p>713 rows × 2 columns</p>\n",
       "</div>"
      ],
      "text/plain": [
       "Item_Name           Samsung Galaxy S20 FE 5G | Factory Unlocked Android Cell Phone | 128 GB | US Version Smartphone | Pro-Grade Camera| 30X Space Zoom| Night Mode | Cloud Navy  \\\n",
       "Username                                                                                                                                                                          \n",
       "....                                                              4.0                                                                                                             \n",
       "2kold                                                             3.0                                                                                                             \n",
       "4u1solo                                                           5.0                                                                                                             \n",
       "A G Trappe                                                        NaN                                                                                                             \n",
       "A S M SARWAR ZAHAN                                                5.0                                                                                                             \n",
       "...                                                               ...                                                                                                             \n",
       "warang                                                            5.0                                                                                                             \n",
       "willie hines                                                      5.0                                                                                                             \n",
       "wilsonmd                                                          5.0                                                                                                             \n",
       "winton                                                            5.0                                                                                                             \n",
       "Ángel Madrigal                                                    4.0                                                                                                             \n",
       "\n",
       "Item_Name           UMIDIGI A5 Pro Unlocked Mobile Phones SIM Free Dual 4G Smartphone 16MP+8MP+5MP Camera Smartphones 4150mAh Battery 6.3\" FHD+ 32GB ROM 4GB RAM Android 9 Pie (Grey)  \n",
       "Username                                                                                                                                                                               \n",
       "....                                                              NaN                                                                                                                  \n",
       "2kold                                                             NaN                                                                                                                  \n",
       "4u1solo                                                           NaN                                                                                                                  \n",
       "A G Trappe                                                        1.0                                                                                                                  \n",
       "A S M SARWAR ZAHAN                                                NaN                                                                                                                  \n",
       "...                                                               ...                                                                                                                  \n",
       "warang                                                            NaN                                                                                                                  \n",
       "willie hines                                                      NaN                                                                                                                  \n",
       "wilsonmd                                                          NaN                                                                                                                  \n",
       "winton                                                            NaN                                                                                                                  \n",
       "Ángel Madrigal                                                    NaN                                                                                                                  \n",
       "\n",
       "[713 rows x 2 columns]"
      ]
     },
     "execution_count": 84,
     "metadata": {},
     "output_type": "execute_result"
    }
   ],
   "source": [
    "df_ratings = X_train.pivot(index='Username', columns='Item_Name', values='Rating_Score')\n",
    "df_ratings"
   ]
  },
  {
   "cell_type": "code",
   "execution_count": 85,
   "id": "8d273da3",
   "metadata": {},
   "outputs": [
    {
     "data": {
      "text/html": [
       "<div>\n",
       "<style scoped>\n",
       "    .dataframe tbody tr th:only-of-type {\n",
       "        vertical-align: middle;\n",
       "    }\n",
       "\n",
       "    .dataframe tbody tr th {\n",
       "        vertical-align: top;\n",
       "    }\n",
       "\n",
       "    .dataframe thead th {\n",
       "        text-align: right;\n",
       "    }\n",
       "</style>\n",
       "<table border=\"1\" class=\"dataframe\">\n",
       "  <thead>\n",
       "    <tr style=\"text-align: right;\">\n",
       "      <th>Item_Name</th>\n",
       "      <th>Samsung Galaxy S20 FE 5G | Factory Unlocked Android Cell Phone | 128 GB | US Version Smartphone | Pro-Grade Camera| 30X Space Zoom| Night Mode | Cloud Navy</th>\n",
       "      <th>UMIDIGI A5 Pro Unlocked Mobile Phones SIM Free Dual 4G Smartphone 16MP+8MP+5MP Camera Smartphones 4150mAh Battery 6.3\" FHD+ 32GB ROM 4GB RAM Android 9 Pie (Grey)</th>\n",
       "    </tr>\n",
       "    <tr>\n",
       "      <th>Username</th>\n",
       "      <th></th>\n",
       "      <th></th>\n",
       "    </tr>\n",
       "  </thead>\n",
       "  <tbody>\n",
       "    <tr>\n",
       "      <th>....</th>\n",
       "      <td>4.0</td>\n",
       "      <td>0.0</td>\n",
       "    </tr>\n",
       "    <tr>\n",
       "      <th>2kold</th>\n",
       "      <td>3.0</td>\n",
       "      <td>0.0</td>\n",
       "    </tr>\n",
       "    <tr>\n",
       "      <th>4u1solo</th>\n",
       "      <td>5.0</td>\n",
       "      <td>0.0</td>\n",
       "    </tr>\n",
       "    <tr>\n",
       "      <th>A G Trappe</th>\n",
       "      <td>0.0</td>\n",
       "      <td>1.0</td>\n",
       "    </tr>\n",
       "    <tr>\n",
       "      <th>A S M SARWAR ZAHAN</th>\n",
       "      <td>5.0</td>\n",
       "      <td>0.0</td>\n",
       "    </tr>\n",
       "    <tr>\n",
       "      <th>...</th>\n",
       "      <td>...</td>\n",
       "      <td>...</td>\n",
       "    </tr>\n",
       "    <tr>\n",
       "      <th>warang</th>\n",
       "      <td>5.0</td>\n",
       "      <td>0.0</td>\n",
       "    </tr>\n",
       "    <tr>\n",
       "      <th>willie hines</th>\n",
       "      <td>5.0</td>\n",
       "      <td>0.0</td>\n",
       "    </tr>\n",
       "    <tr>\n",
       "      <th>wilsonmd</th>\n",
       "      <td>5.0</td>\n",
       "      <td>0.0</td>\n",
       "    </tr>\n",
       "    <tr>\n",
       "      <th>winton</th>\n",
       "      <td>5.0</td>\n",
       "      <td>0.0</td>\n",
       "    </tr>\n",
       "    <tr>\n",
       "      <th>Ángel Madrigal</th>\n",
       "      <td>4.0</td>\n",
       "      <td>0.0</td>\n",
       "    </tr>\n",
       "  </tbody>\n",
       "</table>\n",
       "<p>713 rows × 2 columns</p>\n",
       "</div>"
      ],
      "text/plain": [
       "Item_Name           Samsung Galaxy S20 FE 5G | Factory Unlocked Android Cell Phone | 128 GB | US Version Smartphone | Pro-Grade Camera| 30X Space Zoom| Night Mode | Cloud Navy  \\\n",
       "Username                                                                                                                                                                          \n",
       "....                                                              4.0                                                                                                             \n",
       "2kold                                                             3.0                                                                                                             \n",
       "4u1solo                                                           5.0                                                                                                             \n",
       "A G Trappe                                                        0.0                                                                                                             \n",
       "A S M SARWAR ZAHAN                                                5.0                                                                                                             \n",
       "...                                                               ...                                                                                                             \n",
       "warang                                                            5.0                                                                                                             \n",
       "willie hines                                                      5.0                                                                                                             \n",
       "wilsonmd                                                          5.0                                                                                                             \n",
       "winton                                                            5.0                                                                                                             \n",
       "Ángel Madrigal                                                    4.0                                                                                                             \n",
       "\n",
       "Item_Name           UMIDIGI A5 Pro Unlocked Mobile Phones SIM Free Dual 4G Smartphone 16MP+8MP+5MP Camera Smartphones 4150mAh Battery 6.3\" FHD+ 32GB ROM 4GB RAM Android 9 Pie (Grey)  \n",
       "Username                                                                                                                                                                               \n",
       "....                                                              0.0                                                                                                                  \n",
       "2kold                                                             0.0                                                                                                                  \n",
       "4u1solo                                                           0.0                                                                                                                  \n",
       "A G Trappe                                                        1.0                                                                                                                  \n",
       "A S M SARWAR ZAHAN                                                0.0                                                                                                                  \n",
       "...                                                               ...                                                                                                                  \n",
       "warang                                                            0.0                                                                                                                  \n",
       "willie hines                                                      0.0                                                                                                                  \n",
       "wilsonmd                                                          0.0                                                                                                                  \n",
       "winton                                                            0.0                                                                                                                  \n",
       "Ángel Madrigal                                                    0.0                                                                                                                  \n",
       "\n",
       "[713 rows x 2 columns]"
      ]
     },
     "execution_count": 85,
     "metadata": {},
     "output_type": "execute_result"
    }
   ],
   "source": [
    "# replace the NULL values by 0s since the cosine_similarity doesn’t work with NA values\n",
    "df_ratings_dummy = df_ratings.copy().fillna(0)\n",
    "df_ratings_dummy"
   ]
  },
  {
   "cell_type": "code",
   "execution_count": 86,
   "id": "de925713",
   "metadata": {},
   "outputs": [],
   "source": [
    "#cosine similarity of the ratings\n",
    "similarity_matrix = cosine_similarity(df_ratings_dummy, df_ratings_dummy)\n",
    "similarity_matrix_df = pd.DataFrame(similarity_matrix, index=df_ratings.index, columns=df_ratings.index)\n",
    "\n",
    "#calculate ratings using weighted sum of cosine similarity\n",
    "#function to calculate ratings\n",
    "def calculate_ratings(item, username):\n",
    "    if item in df_ratings:\n",
    "        cosine_scores = similarity_matrix_df[username] #similarity of user with every other users\n",
    "        ratings_scores = df_ratings[item]      #ratings of every other users for the item\n",
    "        \n",
    "        #won't consider users who havent rated item so drop similarity scores and ratings corresponsing to np.nan\n",
    "        index_not_rated = ratings_scores[ratings_scores.isnull()].index\n",
    "        ratings_scores = ratings_scores.dropna()\n",
    "        cosine_scores = cosine_scores.drop(index_not_rated)\n",
    "        \n",
    "        #calculating rating by weighted mean of ratings and cosine scores of the users who have rated the item\n",
    "        ratings_item = np.dot(ratings_scores, cosine_scores)/cosine_scores.sum()\n",
    "        \n",
    "    else:\n",
    "        return 2.5\n",
    "    return ratings_item"
   ]
  },
  {
   "cell_type": "code",
   "execution_count": 87,
   "id": "cdc7d0ca",
   "metadata": {},
   "outputs": [
    {
     "data": {
      "text/plain": [
       "4.028315946348733"
      ]
     },
     "execution_count": 87,
     "metadata": {},
     "output_type": "execute_result"
    }
   ],
   "source": [
    "calculate_ratings('Samsung Galaxy S20 FE 5G | Factory Unlocked Android Cell Phone | 128 GB | US Version Smartphone | Pro-Grade Camera| 30X Space Zoom| Night Mode | Cloud Navy', 'Leonardo')"
   ]
  },
  {
   "cell_type": "code",
   "execution_count": 88,
   "id": "c7b0f40c",
   "metadata": {},
   "outputs": [
    {
     "name": "stdout",
     "output_type": "stream",
     "text": [
      "2.0717183222442883\n"
     ]
    }
   ],
   "source": [
    "#evaluates on test set\n",
    "\n",
    "def score_on_test_set():\n",
    "    user_item_pairs = zip(X_test['Item_Name'], X_test['Username'])\n",
    "    \n",
    "    predicted_ratings = np.array([calculate_ratings(x,x) for (x,x) in user_item_pairs])\n",
    "    true_ratings = np.array(X_test['Rating_Score'])\n",
    "    score = np.sqrt(mean_squared_error(true_ratings, predicted_ratings))\n",
    "    return score\n",
    "test_set_score = score_on_test_set()\n",
    "print(test_set_score)"
   ]
  },
  {
   "cell_type": "code",
   "execution_count": 89,
   "id": "36105c24",
   "metadata": {},
   "outputs": [
    {
     "data": {
      "text/html": [
       "<div>\n",
       "<style scoped>\n",
       "    .dataframe tbody tr th:only-of-type {\n",
       "        vertical-align: middle;\n",
       "    }\n",
       "\n",
       "    .dataframe tbody tr th {\n",
       "        vertical-align: top;\n",
       "    }\n",
       "\n",
       "    .dataframe thead th {\n",
       "        text-align: right;\n",
       "    }\n",
       "</style>\n",
       "<table border=\"1\" class=\"dataframe\">\n",
       "  <thead>\n",
       "    <tr style=\"text-align: right;\">\n",
       "      <th></th>\n",
       "      <th>Image_Url</th>\n",
       "      <th>Item_Name</th>\n",
       "      <th>Username</th>\n",
       "      <th>Rating_Score</th>\n",
       "      <th>Review_Description</th>\n",
       "      <th>Review_Date</th>\n",
       "    </tr>\n",
       "  </thead>\n",
       "  <tbody>\n",
       "    <tr>\n",
       "      <th>0</th>\n",
       "      <td>https://m.media-amazon.com/images/I/41UuyU7HsP...</td>\n",
       "      <td>Samsung Galaxy S20 FE 5G | Factory Unlocked An...</td>\n",
       "      <td>Leonardo</td>\n",
       "      <td>5</td>\n",
       "      <td>Tengo prácticamente una semana con el equipo y...</td>\n",
       "      <td>Reviewed in Mexico on 2 December 2020</td>\n",
       "    </tr>\n",
       "    <tr>\n",
       "      <th>1</th>\n",
       "      <td>https://m.media-amazon.com/images/I/41UuyU7HsP...</td>\n",
       "      <td>Samsung Galaxy S20 FE 5G | Factory Unlocked An...</td>\n",
       "      <td>Jacob E</td>\n",
       "      <td>3</td>\n",
       "      <td>Coming from a pixel 2 I expected more.Front ca...</td>\n",
       "      <td>Reviewed in the United States on 5 October 2020</td>\n",
       "    </tr>\n",
       "    <tr>\n",
       "      <th>2</th>\n",
       "      <td>https://m.media-amazon.com/images/I/41UuyU7HsP...</td>\n",
       "      <td>Samsung Galaxy S20 FE 5G | Factory Unlocked An...</td>\n",
       "      <td>Angel Chavez</td>\n",
       "      <td>5</td>\n",
       "      <td>Realmente llegó el que pedí' aunque aún no hay...</td>\n",
       "      <td>Reviewed in Mexico on 25 November 2020</td>\n",
       "    </tr>\n",
       "    <tr>\n",
       "      <th>3</th>\n",
       "      <td>https://m.media-amazon.com/images/I/41UuyU7HsP...</td>\n",
       "      <td>Samsung Galaxy S20 FE 5G | Factory Unlocked An...</td>\n",
       "      <td>Shawn</td>\n",
       "      <td>3</td>\n",
       "      <td>I decided on the Samsung Galaxy S20 FE for my ...</td>\n",
       "      <td>Reviewed in the United States on 18 November 2020</td>\n",
       "    </tr>\n",
       "    <tr>\n",
       "      <th>4</th>\n",
       "      <td>https://m.media-amazon.com/images/I/41UuyU7HsP...</td>\n",
       "      <td>Samsung Galaxy S20 FE 5G | Factory Unlocked An...</td>\n",
       "      <td>Morgan J.</td>\n",
       "      <td>4</td>\n",
       "      <td>El teléfono llegó super rápido y lo compré por...</td>\n",
       "      <td>Reviewed in Mexico on 9 January 2021</td>\n",
       "    </tr>\n",
       "    <tr>\n",
       "      <th>...</th>\n",
       "      <td>...</td>\n",
       "      <td>...</td>\n",
       "      <td>...</td>\n",
       "      <td>...</td>\n",
       "      <td>...</td>\n",
       "      <td>...</td>\n",
       "    </tr>\n",
       "    <tr>\n",
       "      <th>1029</th>\n",
       "      <td>https://m.media-amazon.com/images/I/419sppTfYE...</td>\n",
       "      <td>UMIDIGI A5 Pro Unlocked Mobile Phones SIM Free...</td>\n",
       "      <td>Anderson Nunez</td>\n",
       "      <td>5</td>\n",
       "      <td>Excelent phone for the price</td>\n",
       "      <td>Reviewed in the United States on 8 January 2020</td>\n",
       "    </tr>\n",
       "    <tr>\n",
       "      <th>1030</th>\n",
       "      <td>https://m.media-amazon.com/images/I/419sppTfYE...</td>\n",
       "      <td>UMIDIGI A5 Pro Unlocked Mobile Phones SIM Free...</td>\n",
       "      <td>Danny Jimenez</td>\n",
       "      <td>5</td>\n",
       "      <td>Love it!!!</td>\n",
       "      <td>Reviewed in the United States on 30 November 2019</td>\n",
       "    </tr>\n",
       "    <tr>\n",
       "      <th>1031</th>\n",
       "      <td>https://m.media-amazon.com/images/I/419sppTfYE...</td>\n",
       "      <td>UMIDIGI A5 Pro Unlocked Mobile Phones SIM Free...</td>\n",
       "      <td>Svetlan Blagojevic</td>\n",
       "      <td>5</td>\n",
       "      <td>Great</td>\n",
       "      <td>Reviewed in the United States on 7 January 2020</td>\n",
       "    </tr>\n",
       "    <tr>\n",
       "      <th>1032</th>\n",
       "      <td>https://m.media-amazon.com/images/I/419sppTfYE...</td>\n",
       "      <td>UMIDIGI A5 Pro Unlocked Mobile Phones SIM Free...</td>\n",
       "      <td>Derrick byrd</td>\n",
       "      <td>5</td>\n",
       "      <td>Excellent phone recommended</td>\n",
       "      <td>Reviewed in the United States on 8 November 2019</td>\n",
       "    </tr>\n",
       "    <tr>\n",
       "      <th>1033</th>\n",
       "      <td>https://m.media-amazon.com/images/I/419sppTfYE...</td>\n",
       "      <td>UMIDIGI A5 Pro Unlocked Mobile Phones SIM Free...</td>\n",
       "      <td>Lexex</td>\n",
       "      <td>5</td>\n",
       "      <td>Very good product</td>\n",
       "      <td>Reviewed in the United States on 5 February 2020</td>\n",
       "    </tr>\n",
       "  </tbody>\n",
       "</table>\n",
       "<p>951 rows × 6 columns</p>\n",
       "</div>"
      ],
      "text/plain": [
       "                                              Image_Url  \\\n",
       "0     https://m.media-amazon.com/images/I/41UuyU7HsP...   \n",
       "1     https://m.media-amazon.com/images/I/41UuyU7HsP...   \n",
       "2     https://m.media-amazon.com/images/I/41UuyU7HsP...   \n",
       "3     https://m.media-amazon.com/images/I/41UuyU7HsP...   \n",
       "4     https://m.media-amazon.com/images/I/41UuyU7HsP...   \n",
       "...                                                 ...   \n",
       "1029  https://m.media-amazon.com/images/I/419sppTfYE...   \n",
       "1030  https://m.media-amazon.com/images/I/419sppTfYE...   \n",
       "1031  https://m.media-amazon.com/images/I/419sppTfYE...   \n",
       "1032  https://m.media-amazon.com/images/I/419sppTfYE...   \n",
       "1033  https://m.media-amazon.com/images/I/419sppTfYE...   \n",
       "\n",
       "                                              Item_Name            Username  \\\n",
       "0     Samsung Galaxy S20 FE 5G | Factory Unlocked An...            Leonardo   \n",
       "1     Samsung Galaxy S20 FE 5G | Factory Unlocked An...             Jacob E   \n",
       "2     Samsung Galaxy S20 FE 5G | Factory Unlocked An...        Angel Chavez   \n",
       "3     Samsung Galaxy S20 FE 5G | Factory Unlocked An...               Shawn   \n",
       "4     Samsung Galaxy S20 FE 5G | Factory Unlocked An...           Morgan J.   \n",
       "...                                                 ...                 ...   \n",
       "1029  UMIDIGI A5 Pro Unlocked Mobile Phones SIM Free...      Anderson Nunez   \n",
       "1030  UMIDIGI A5 Pro Unlocked Mobile Phones SIM Free...       Danny Jimenez   \n",
       "1031  UMIDIGI A5 Pro Unlocked Mobile Phones SIM Free...  Svetlan Blagojevic   \n",
       "1032  UMIDIGI A5 Pro Unlocked Mobile Phones SIM Free...        Derrick byrd   \n",
       "1033  UMIDIGI A5 Pro Unlocked Mobile Phones SIM Free...              Lexex    \n",
       "\n",
       "      Rating_Score                                 Review_Description  \\\n",
       "0                5  Tengo prácticamente una semana con el equipo y...   \n",
       "1                3  Coming from a pixel 2 I expected more.Front ca...   \n",
       "2                5  Realmente llegó el que pedí' aunque aún no hay...   \n",
       "3                3  I decided on the Samsung Galaxy S20 FE for my ...   \n",
       "4                4  El teléfono llegó super rápido y lo compré por...   \n",
       "...            ...                                                ...   \n",
       "1029             5                       Excelent phone for the price   \n",
       "1030             5                                         Love it!!!   \n",
       "1031             5                                              Great   \n",
       "1032             5                        Excellent phone recommended   \n",
       "1033             5                                  Very good product   \n",
       "\n",
       "                                           Review_Date   \n",
       "0                 Reviewed in Mexico on 2 December 2020  \n",
       "1       Reviewed in the United States on 5 October 2020  \n",
       "2                Reviewed in Mexico on 25 November 2020  \n",
       "3     Reviewed in the United States on 18 November 2020  \n",
       "4                  Reviewed in Mexico on 9 January 2021  \n",
       "...                                                 ...  \n",
       "1029    Reviewed in the United States on 8 January 2020  \n",
       "1030  Reviewed in the United States on 30 November 2019  \n",
       "1031    Reviewed in the United States on 7 January 2020  \n",
       "1032   Reviewed in the United States on 8 November 2019  \n",
       "1033   Reviewed in the United States on 5 February 2020  \n",
       "\n",
       "[951 rows x 6 columns]"
      ]
     },
     "execution_count": 89,
     "metadata": {},
     "output_type": "execute_result"
    }
   ],
   "source": [
    "df"
   ]
  },
  {
   "cell_type": "code",
   "execution_count": 90,
   "id": "bb5a0f81",
   "metadata": {},
   "outputs": [
    {
     "data": {
      "text/html": [
       "<div>\n",
       "<style scoped>\n",
       "    .dataframe tbody tr th:only-of-type {\n",
       "        vertical-align: middle;\n",
       "    }\n",
       "\n",
       "    .dataframe tbody tr th {\n",
       "        vertical-align: top;\n",
       "    }\n",
       "\n",
       "    .dataframe thead th {\n",
       "        text-align: right;\n",
       "    }\n",
       "</style>\n",
       "<table border=\"1\" class=\"dataframe\">\n",
       "  <thead>\n",
       "    <tr style=\"text-align: right;\">\n",
       "      <th></th>\n",
       "      <th>Item_Name</th>\n",
       "      <th>Username</th>\n",
       "      <th>Rating_Score</th>\n",
       "    </tr>\n",
       "  </thead>\n",
       "  <tbody>\n",
       "    <tr>\n",
       "      <th>0</th>\n",
       "      <td>Samsung Galaxy S20 FE 5G | Factory Unlocked An...</td>\n",
       "      <td>Leonardo</td>\n",
       "      <td>5</td>\n",
       "    </tr>\n",
       "    <tr>\n",
       "      <th>1</th>\n",
       "      <td>Samsung Galaxy S20 FE 5G | Factory Unlocked An...</td>\n",
       "      <td>Jacob E</td>\n",
       "      <td>3</td>\n",
       "    </tr>\n",
       "    <tr>\n",
       "      <th>2</th>\n",
       "      <td>Samsung Galaxy S20 FE 5G | Factory Unlocked An...</td>\n",
       "      <td>Angel Chavez</td>\n",
       "      <td>5</td>\n",
       "    </tr>\n",
       "    <tr>\n",
       "      <th>3</th>\n",
       "      <td>Samsung Galaxy S20 FE 5G | Factory Unlocked An...</td>\n",
       "      <td>Shawn</td>\n",
       "      <td>3</td>\n",
       "    </tr>\n",
       "    <tr>\n",
       "      <th>4</th>\n",
       "      <td>Samsung Galaxy S20 FE 5G | Factory Unlocked An...</td>\n",
       "      <td>Morgan J.</td>\n",
       "      <td>4</td>\n",
       "    </tr>\n",
       "    <tr>\n",
       "      <th>...</th>\n",
       "      <td>...</td>\n",
       "      <td>...</td>\n",
       "      <td>...</td>\n",
       "    </tr>\n",
       "    <tr>\n",
       "      <th>1029</th>\n",
       "      <td>UMIDIGI A5 Pro Unlocked Mobile Phones SIM Free...</td>\n",
       "      <td>Anderson Nunez</td>\n",
       "      <td>5</td>\n",
       "    </tr>\n",
       "    <tr>\n",
       "      <th>1030</th>\n",
       "      <td>UMIDIGI A5 Pro Unlocked Mobile Phones SIM Free...</td>\n",
       "      <td>Danny Jimenez</td>\n",
       "      <td>5</td>\n",
       "    </tr>\n",
       "    <tr>\n",
       "      <th>1031</th>\n",
       "      <td>UMIDIGI A5 Pro Unlocked Mobile Phones SIM Free...</td>\n",
       "      <td>Svetlan Blagojevic</td>\n",
       "      <td>5</td>\n",
       "    </tr>\n",
       "    <tr>\n",
       "      <th>1032</th>\n",
       "      <td>UMIDIGI A5 Pro Unlocked Mobile Phones SIM Free...</td>\n",
       "      <td>Derrick byrd</td>\n",
       "      <td>5</td>\n",
       "    </tr>\n",
       "    <tr>\n",
       "      <th>1033</th>\n",
       "      <td>UMIDIGI A5 Pro Unlocked Mobile Phones SIM Free...</td>\n",
       "      <td>Lexex</td>\n",
       "      <td>5</td>\n",
       "    </tr>\n",
       "  </tbody>\n",
       "</table>\n",
       "<p>951 rows × 3 columns</p>\n",
       "</div>"
      ],
      "text/plain": [
       "                                              Item_Name            Username  \\\n",
       "0     Samsung Galaxy S20 FE 5G | Factory Unlocked An...            Leonardo   \n",
       "1     Samsung Galaxy S20 FE 5G | Factory Unlocked An...             Jacob E   \n",
       "2     Samsung Galaxy S20 FE 5G | Factory Unlocked An...        Angel Chavez   \n",
       "3     Samsung Galaxy S20 FE 5G | Factory Unlocked An...               Shawn   \n",
       "4     Samsung Galaxy S20 FE 5G | Factory Unlocked An...           Morgan J.   \n",
       "...                                                 ...                 ...   \n",
       "1029  UMIDIGI A5 Pro Unlocked Mobile Phones SIM Free...      Anderson Nunez   \n",
       "1030  UMIDIGI A5 Pro Unlocked Mobile Phones SIM Free...       Danny Jimenez   \n",
       "1031  UMIDIGI A5 Pro Unlocked Mobile Phones SIM Free...  Svetlan Blagojevic   \n",
       "1032  UMIDIGI A5 Pro Unlocked Mobile Phones SIM Free...        Derrick byrd   \n",
       "1033  UMIDIGI A5 Pro Unlocked Mobile Phones SIM Free...              Lexex    \n",
       "\n",
       "      Rating_Score  \n",
       "0                5  \n",
       "1                3  \n",
       "2                5  \n",
       "3                3  \n",
       "4                4  \n",
       "...            ...  \n",
       "1029             5  \n",
       "1030             5  \n",
       "1031             5  \n",
       "1032             5  \n",
       "1033             5  \n",
       "\n",
       "[951 rows x 3 columns]"
      ]
     },
     "execution_count": 90,
     "metadata": {},
     "output_type": "execute_result"
    }
   ],
   "source": [
    "df = df.drop(columns=['Image_Url','Review_Description', 'Review_Date '])\n",
    "df"
   ]
  },
  {
   "cell_type": "code",
   "execution_count": 91,
   "id": "eea34092",
   "metadata": {},
   "outputs": [
    {
     "name": "stdout",
     "output_type": "stream",
     "text": [
      "Computing the msd similarity matrix...\n",
      "Done computing similarity matrix.\n",
      "Computing the msd similarity matrix...\n",
      "Done computing similarity matrix.\n",
      "Computing the msd similarity matrix...\n",
      "Done computing similarity matrix.\n"
     ]
    },
    {
     "data": {
      "text/plain": [
       "{'test_rmse': array([1.44078763, 1.44874397, 1.4978689 ]),\n",
       " 'fit_time': (0.0, 0.0, 0.0010001659393310547),\n",
       " 'test_time': (0.0020003318786621094,\n",
       "  0.0009999275207519531,\n",
       "  0.0010006427764892578)}"
      ]
     },
     "execution_count": 91,
     "metadata": {},
     "output_type": "execute_result"
    }
   ],
   "source": [
    "#Define a Reader object\n",
    "#The Reader object helps in parsing the file or dataframe containing ratings\n",
    "\n",
    "reader = Reader()\n",
    "#dataset creation\n",
    "data = Dataset.load_from_df(df, reader)\n",
    "#model\n",
    "knn = KNNBasic()\n",
    "#Evaluating the performance in terms of RMSE\n",
    "cross_validate(knn, data, measures=['RMSE'], cv = 3)"
   ]
  },
  {
   "cell_type": "code",
   "execution_count": 92,
   "id": "c529bc54",
   "metadata": {},
   "outputs": [
    {
     "data": {
      "text/plain": [
       "{'test_rmse': array([1.48312742, 1.4310648 , 1.46021932]),\n",
       " 'fit_time': (0.027510404586791992, 0.027006149291992188, 0.03122258186340332),\n",
       " 'test_time': (0.0010001659393310547,\n",
       "  0.0010001659393310547,\n",
       "  0.0010006427764892578)}"
      ]
     },
     "execution_count": 92,
     "metadata": {},
     "output_type": "execute_result"
    }
   ],
   "source": [
    "#Define the SVD algorithm object\n",
    "svd = SVD()\n",
    "#Evaluate the performance in terms of RMSE\n",
    "cross_validate(svd, data, measures=['RMSE'], cv = 3)"
   ]
  },
  {
   "cell_type": "code",
   "execution_count": 93,
   "id": "44278e5d",
   "metadata": {},
   "outputs": [
    {
     "data": {
      "text/plain": [
       "<surprise.prediction_algorithms.matrix_factorization.SVD at 0x23980b5ac70>"
      ]
     },
     "execution_count": 93,
     "metadata": {},
     "output_type": "execute_result"
    }
   ],
   "source": [
    "trainset = data.build_full_trainset()\n",
    "svd.fit(trainset)\n"
   ]
  },
  {
   "cell_type": "code",
   "execution_count": 115,
   "id": "b45d349e",
   "metadata": {
    "scrolled": false
   },
   "outputs": [
    {
     "data": {
      "text/html": [
       "<div>\n",
       "<style scoped>\n",
       "    .dataframe tbody tr th:only-of-type {\n",
       "        vertical-align: middle;\n",
       "    }\n",
       "\n",
       "    .dataframe tbody tr th {\n",
       "        vertical-align: top;\n",
       "    }\n",
       "\n",
       "    .dataframe thead th {\n",
       "        text-align: right;\n",
       "    }\n",
       "</style>\n",
       "<table border=\"1\" class=\"dataframe\">\n",
       "  <thead>\n",
       "    <tr style=\"text-align: right;\">\n",
       "      <th></th>\n",
       "      <th>Item_Name</th>\n",
       "      <th>Username</th>\n",
       "      <th>Rating_Score</th>\n",
       "    </tr>\n",
       "  </thead>\n",
       "  <tbody>\n",
       "    <tr>\n",
       "      <th>680</th>\n",
       "      <td>Samsung Galaxy S20 FE 5G | Factory Unlocked An...</td>\n",
       "      <td>FDabroski</td>\n",
       "      <td>5</td>\n",
       "    </tr>\n",
       "  </tbody>\n",
       "</table>\n",
       "</div>"
      ],
      "text/plain": [
       "                                             Item_Name   Username  \\\n",
       "680  Samsung Galaxy S20 FE 5G | Factory Unlocked An...  FDabroski   \n",
       "\n",
       "     Rating_Score  \n",
       "680             5  "
      ]
     },
     "execution_count": 115,
     "metadata": {},
     "output_type": "execute_result"
    }
   ],
   "source": [
    "#run this to display random a sample record\n",
    "df2 = df.sample(1)\n",
    "df2"
   ]
  },
  {
   "cell_type": "code",
   "execution_count": 116,
   "id": "4992605a",
   "metadata": {},
   "outputs": [],
   "source": [
    "#Listing the lists\n",
    "item_list = df2.iloc[:, 0].unique().tolist()\n",
    "user_list = df2.iloc[:, 1].unique().tolist()\n",
    "rating_list = df2.iloc[:, 2].tolist()"
   ]
  },
  {
   "cell_type": "code",
   "execution_count": 117,
   "id": "776b1fa0",
   "metadata": {},
   "outputs": [
    {
     "name": "stdout",
     "output_type": "stream",
     "text": [
      "Username: FDabroski \n",
      "Predicted Rating Score: 4.842184733668431 \n",
      "Original Rating Score: 5 \n",
      "Percentage: 96.84 %\n"
     ]
    }
   ],
   "source": [
    "#Checking the prediction score result against the original score\n",
    "for x in item_list:\n",
    "    for y in user_list:\n",
    "        result = svd.predict(x,y).est\n",
    "        for z in rating_list:\n",
    "            print('Username:',y,'\\nPredicted Rating Score:',result,'\\nOriginal Rating Score:',z,\n",
    "                  '\\nPercentage:',((result/z)*100).round(2),'%')\n",
    "\n",
    "        "
   ]
  },
  {
   "cell_type": "code",
   "execution_count": null,
   "id": "e47582e9",
   "metadata": {},
   "outputs": [],
   "source": []
  }
 ],
 "metadata": {
  "kernelspec": {
   "display_name": "Python 3",
   "language": "python",
   "name": "python3"
  },
  "language_info": {
   "codemirror_mode": {
    "name": "ipython",
    "version": 3
   },
   "file_extension": ".py",
   "mimetype": "text/x-python",
   "name": "python",
   "nbconvert_exporter": "python",
   "pygments_lexer": "ipython3",
   "version": "3.8.8"
  }
 },
 "nbformat": 4,
 "nbformat_minor": 5
}
